{
 "cells": [
  {
   "cell_type": "code",
   "execution_count": 9,
   "id": "02dfcc8d-dc37-4774-82f6-47de30aa6915",
   "metadata": {},
   "outputs": [],
   "source": [
    "import tensorflow as tf\n",
    "import matplotlib.pyplot as plt\n",
    "import pandas as pd\n",
    "import seaborn as sns\n",
    "\n",
    "import os\n",
    "\n",
    "os.environ['TF_ENABLE_ONEDNN_OPTS'] = '0'"
   ]
  },
  {
   "cell_type": "code",
   "execution_count": 13,
   "id": "a92b0c46-539b-49a2-9b4d-4ba36d9c6fdc",
   "metadata": {},
   "outputs": [
    {
     "name": "stdout",
     "output_type": "stream",
     "text": [
      "Found 70295 files belonging to 38 classes.\n"
     ]
    }
   ],
   "source": [
    "training_set = tf.keras.utils.image_dataset_from_directory(\n",
    "    'train',\n",
    "    labels=\"inferred\",\n",
    "    label_mode=\"categorical\",\n",
    "    class_names=None,\n",
    "    color_mode=\"rgb\",\n",
    "    batch_size=32,\n",
    "    image_size=(128, 128),\n",
    "    shuffle=True,\n",
    "    seed=None,\n",
    "    validation_split=None,\n",
    "    subset=None,\n",
    "    interpolation=\"bilinear\",\n",
    "    follow_links=False,\n",
    "    crop_to_aspect_ratio=False,\n",
    ")"
   ]
  },
  {
   "cell_type": "markdown",
   "id": "738f4f05-e71d-4ed5-ac05-7c5c26d4a36c",
   "metadata": {},
   "source": [
    "### Validation Image Preporcessing"
   ]
  },
  {
   "cell_type": "code",
   "execution_count": 15,
   "id": "1b24e392-b992-4234-afe8-7c161143b583",
   "metadata": {},
   "outputs": [
    {
     "name": "stdout",
     "output_type": "stream",
     "text": [
      "Found 17572 files belonging to 38 classes.\n"
     ]
    }
   ],
   "source": [
    "validation_set = tf.keras.utils.image_dataset_from_directory(\n",
    "    'valid',\n",
    "    labels=\"inferred\",\n",
    "    label_mode=\"categorical\",\n",
    "    class_names=None,\n",
    "    color_mode=\"rgb\",\n",
    "    batch_size=32,\n",
    "    image_size=(128, 128),\n",
    "    shuffle=True,\n",
    "    seed=None,\n",
    "    validation_split=None,\n",
    "    subset=None,\n",
    "    interpolation=\"bilinear\",\n",
    "    follow_links=False,\n",
    "    crop_to_aspect_ratio=False,\n",
    ")"
   ]
  },
  {
   "cell_type": "code",
   "execution_count": 17,
   "id": "9b6b4b52-f992-4286-8914-b219e1fccf79",
   "metadata": {},
   "outputs": [
    {
     "data": {
      "text/plain": [
       "<_PrefetchDataset element_spec=(TensorSpec(shape=(None, 128, 128, 3), dtype=tf.float32, name=None), TensorSpec(shape=(None, 38), dtype=tf.float32, name=None))>"
      ]
     },
     "execution_count": 17,
     "metadata": {},
     "output_type": "execute_result"
    }
   ],
   "source": [
    "training_set"
   ]
  },
  {
   "cell_type": "code",
   "execution_count": 20,
   "id": "b3dcb30e-2eb7-44ab-a4e5-0337b9614a5b",
   "metadata": {},
   "outputs": [
    {
     "name": "stdout",
     "output_type": "stream",
     "text": [
      "tf.Tensor(\n",
      "[[[[  0.     0.     0.  ]\n",
      "   [  0.     0.     0.  ]\n",
      "   [  0.     0.     0.  ]\n",
      "   ...\n",
      "   [  0.     0.     0.  ]\n",
      "   [  0.     0.     0.  ]\n",
      "   [  0.     0.     0.  ]]\n",
      "\n",
      "  [[  0.     0.     0.  ]\n",
      "   [  0.     0.     0.  ]\n",
      "   [  0.     0.     0.  ]\n",
      "   ...\n",
      "   [  0.     0.     0.  ]\n",
      "   [  0.     0.     0.  ]\n",
      "   [  0.     0.     0.  ]]\n",
      "\n",
      "  [[  0.     0.     0.  ]\n",
      "   [  0.     0.     0.  ]\n",
      "   [  0.     0.     0.  ]\n",
      "   ...\n",
      "   [  0.     0.     0.  ]\n",
      "   [  0.     0.     0.  ]\n",
      "   [  0.     0.     0.  ]]\n",
      "\n",
      "  ...\n",
      "\n",
      "  [[  0.     0.     0.  ]\n",
      "   [  0.     0.     0.  ]\n",
      "   [  0.     0.     0.  ]\n",
      "   ...\n",
      "   [  0.     0.     0.  ]\n",
      "   [  0.     0.     0.  ]\n",
      "   [  0.     0.     0.  ]]\n",
      "\n",
      "  [[  0.     0.     0.  ]\n",
      "   [  0.     0.     0.  ]\n",
      "   [  0.     0.     0.  ]\n",
      "   ...\n",
      "   [  0.     0.     0.  ]\n",
      "   [  0.     0.     0.  ]\n",
      "   [  0.     0.     0.  ]]\n",
      "\n",
      "  [[  0.     0.     0.  ]\n",
      "   [  0.     0.     0.  ]\n",
      "   [  0.     0.     0.  ]\n",
      "   ...\n",
      "   [  0.     0.     0.  ]\n",
      "   [  0.     0.     0.  ]\n",
      "   [  0.     0.     0.  ]]]\n",
      "\n",
      "\n",
      " [[[145.   130.   135.  ]\n",
      "   [147.5  132.5  137.5 ]\n",
      "   [152.5  137.5  142.5 ]\n",
      "   ...\n",
      "   [161.5  146.5  151.5 ]\n",
      "   [161.5  146.5  151.5 ]\n",
      "   [161.   146.   151.  ]]\n",
      "\n",
      "  [[146.   131.   136.  ]\n",
      "   [148.5  133.5  138.5 ]\n",
      "   [154.5  139.5  144.5 ]\n",
      "   ...\n",
      "   [160.75 145.75 150.75]\n",
      "   [162.25 147.25 152.25]\n",
      "   [162.5  147.5  152.5 ]]\n",
      "\n",
      "  [[152.25 137.25 142.25]\n",
      "   [150.25 135.25 140.25]\n",
      "   [153.25 138.25 143.25]\n",
      "   ...\n",
      "   [162.75 147.75 152.75]\n",
      "   [160.25 145.25 150.25]\n",
      "   [158.5  143.5  148.5 ]]\n",
      "\n",
      "  ...\n",
      "\n",
      "  [[164.75 150.75 150.75]\n",
      "   [164.5  150.5  150.5 ]\n",
      "   [164.25 150.25 150.25]\n",
      "   ...\n",
      "   [162.5  148.5  148.5 ]\n",
      "   [159.5  145.5  145.5 ]\n",
      "   [167.25 153.25 153.25]]\n",
      "\n",
      "  [[170.   156.   156.  ]\n",
      "   [164.25 150.25 150.25]\n",
      "   [164.25 150.25 150.25]\n",
      "   ...\n",
      "   [173.75 159.75 159.75]\n",
      "   [169.5  155.5  155.5 ]\n",
      "   [166.   152.   152.  ]]\n",
      "\n",
      "  [[148.5  134.5  134.5 ]\n",
      "   [158.75 144.75 144.75]\n",
      "   [165.   151.   151.  ]\n",
      "   ...\n",
      "   [170.75 156.75 156.75]\n",
      "   [166.25 152.25 152.25]\n",
      "   [173.25 159.25 159.25]]]\n",
      "\n",
      "\n",
      " [[[ 29.5   50.25  22.  ]\n",
      "   [ 31.25  55.5   23.5 ]\n",
      "   [ 61.5   87.75  52.75]\n",
      "   ...\n",
      "   [199.25 222.25 196.25]\n",
      "   [197.75 220.75 194.75]\n",
      "   [194.5  217.5  191.5 ]]\n",
      "\n",
      "  [[ 37.    62.5   31.75]\n",
      "   [ 38.25  65.5   32.5 ]\n",
      "   [ 56.75  86.5   50.5 ]\n",
      "   ...\n",
      "   [195.75 218.75 192.75]\n",
      "   [195.5  218.5  192.5 ]\n",
      "   [194.25 217.25 191.25]]\n",
      "\n",
      "  [[ 55.75  88.    53.5 ]\n",
      "   [ 60.    94.25  57.5 ]\n",
      "   [ 61.    97.    58.5 ]\n",
      "   ...\n",
      "   [194.25 217.25 191.25]\n",
      "   [193.5  216.5  190.5 ]\n",
      "   [193.5  216.5  190.5 ]]\n",
      "\n",
      "  ...\n",
      "\n",
      "  [[ 55.75  91.75  43.75]\n",
      "   [ 58.5   94.5   46.5 ]\n",
      "   [ 53.75  89.75  41.75]\n",
      "   ...\n",
      "   [193.75 209.25 151.  ]\n",
      "   [195.25 204.5  148.25]\n",
      "   [205.25 210.75 158.  ]]\n",
      "\n",
      "  [[ 46.    83.    32.  ]\n",
      "   [ 50.75  87.75  36.75]\n",
      "   [ 48.25  85.25  34.25]\n",
      "   ...\n",
      "   [160.75 180.75 130.  ]\n",
      "   [179.75 193.5  145.5 ]\n",
      "   [178.5  188.25 143.25]]\n",
      "\n",
      "  [[ 47.    84.    33.  ]\n",
      "   [ 47.5   84.5   33.5 ]\n",
      "   [ 51.    88.    37.  ]\n",
      "   ...\n",
      "   [151.75 172.   130.25]\n",
      "   [145.75 161.75 123.  ]\n",
      "   [145.5  159.25 122.  ]]]\n",
      "\n",
      "\n",
      " ...\n",
      "\n",
      "\n",
      " [[[127.   125.   130.  ]\n",
      "   [126.75 124.75 129.75]\n",
      "   [126.5  124.5  129.5 ]\n",
      "   ...\n",
      "   [169.25 168.25 176.25]\n",
      "   [167.   166.   174.  ]\n",
      "   [165.75 164.75 172.75]]\n",
      "\n",
      "  [[122.5  120.5  125.5 ]\n",
      "   [120.25 118.25 123.25]\n",
      "   [128.75 126.75 131.75]\n",
      "   ...\n",
      "   [165.   164.   172.  ]\n",
      "   [169.   168.   176.  ]\n",
      "   [164.75 163.75 171.75]]\n",
      "\n",
      "  [[128.25 126.25 131.25]\n",
      "   [125.5  123.5  128.5 ]\n",
      "   [133.25 131.25 136.25]\n",
      "   ...\n",
      "   [168.25 167.25 175.25]\n",
      "   [169.25 168.25 176.25]\n",
      "   [165.5  164.5  172.5 ]]\n",
      "\n",
      "  ...\n",
      "\n",
      "  [[115.75 113.75 118.75]\n",
      "   [116.75 114.75 119.75]\n",
      "   [117.25 115.25 120.25]\n",
      "   ...\n",
      "   [160.25 159.25 165.25]\n",
      "   [157.25 156.25 162.25]\n",
      "   [156.25 155.25 161.25]]\n",
      "\n",
      "  [[117.   115.   120.  ]\n",
      "   [117.25 115.25 120.25]\n",
      "   [117.   115.   120.  ]\n",
      "   ...\n",
      "   [162.75 161.75 167.75]\n",
      "   [159.75 158.75 164.75]\n",
      "   [157.   156.   162.  ]]\n",
      "\n",
      "  [[117.   115.   120.  ]\n",
      "   [110.5  108.5  113.5 ]\n",
      "   [117.   115.   120.  ]\n",
      "   ...\n",
      "   [162.75 161.75 167.75]\n",
      "   [159.75 158.75 164.75]\n",
      "   [159.25 158.25 164.25]]]\n",
      "\n",
      "\n",
      " [[[161.25 153.25 166.25]\n",
      "   [162.5  154.5  167.5 ]\n",
      "   [161.75 153.75 166.75]\n",
      "   ...\n",
      "   [131.   121.   132.  ]\n",
      "   [133.   123.   134.  ]\n",
      "   [138.   128.   139.  ]]\n",
      "\n",
      "  [[163.25 155.25 168.25]\n",
      "   [165.5  157.5  170.5 ]\n",
      "   [145.75 137.75 150.75]\n",
      "   ...\n",
      "   [124.   114.   125.  ]\n",
      "   [137.   127.   138.  ]\n",
      "   [129.5  119.5  130.5 ]]\n",
      "\n",
      "  [[146.25 138.25 151.25]\n",
      "   [158.25 150.25 163.25]\n",
      "   [158.5  150.5  163.5 ]\n",
      "   ...\n",
      "   [121.25 111.25 122.25]\n",
      "   [141.   131.   142.  ]\n",
      "   [132.25 122.25 133.25]]\n",
      "\n",
      "  ...\n",
      "\n",
      "  [[147.   137.   146.  ]\n",
      "   [138.5  128.5  137.5 ]\n",
      "   [129.25 119.25 128.25]\n",
      "   ...\n",
      "   [126.25 113.25 123.25]\n",
      "   [130.5  117.5  127.5 ]\n",
      "   [125.5  112.5  122.5 ]]\n",
      "\n",
      "  [[140.25 130.25 139.25]\n",
      "   [137.25 127.25 136.25]\n",
      "   [137.   127.   136.  ]\n",
      "   ...\n",
      "   [102.5   89.5   99.5 ]\n",
      "   [106.75  93.75 103.75]\n",
      "   [114.5  101.5  111.5 ]]\n",
      "\n",
      "  [[148.   138.   147.  ]\n",
      "   [150.   140.   149.  ]\n",
      "   [143.25 133.25 142.25]\n",
      "   ...\n",
      "   [110.25  97.25 107.25]\n",
      "   [116.5  103.5  113.5 ]\n",
      "   [127.   114.   124.  ]]]\n",
      "\n",
      "\n",
      " [[[194.25 189.25 195.25]\n",
      "   [188.   183.   189.  ]\n",
      "   [188.75 183.75 189.75]\n",
      "   ...\n",
      "   [153.25 146.25 153.25]\n",
      "   [160.   153.   160.  ]\n",
      "   [163.25 156.25 163.25]]\n",
      "\n",
      "  [[197.25 192.25 198.25]\n",
      "   [194.75 189.75 195.75]\n",
      "   [192.25 187.25 193.25]\n",
      "   ...\n",
      "   [163.   156.   163.  ]\n",
      "   [168.5  161.5  168.5 ]\n",
      "   [163.5  156.5  163.5 ]]\n",
      "\n",
      "  [[195.25 190.25 196.25]\n",
      "   [196.5  191.5  197.5 ]\n",
      "   [195.25 190.25 196.25]\n",
      "   ...\n",
      "   [159.75 152.75 159.75]\n",
      "   [163.25 156.25 163.25]\n",
      "   [162.75 155.75 162.75]]\n",
      "\n",
      "  ...\n",
      "\n",
      "  [[170.5  163.5  170.5 ]\n",
      "   [149.75 142.75 149.75]\n",
      "   [173.5  166.5  173.5 ]\n",
      "   ...\n",
      "   [157.25 148.25 153.25]\n",
      "   [156.   147.   152.  ]\n",
      "   [153.5  144.5  149.5 ]]\n",
      "\n",
      "  [[168.5  161.5  168.5 ]\n",
      "   [165.25 158.25 165.25]\n",
      "   [159.75 152.75 159.75]\n",
      "   ...\n",
      "   [148.   139.   144.  ]\n",
      "   [147.5  138.5  143.5 ]\n",
      "   [144.5  135.5  140.5 ]]\n",
      "\n",
      "  [[166.25 159.25 166.25]\n",
      "   [181.   174.   181.  ]\n",
      "   [166.5  159.5  166.5 ]\n",
      "   ...\n",
      "   [148.   139.   144.  ]\n",
      "   [148.5  139.5  144.5 ]\n",
      "   [146.5  137.5  142.5 ]]]], shape=(32, 128, 128, 3), dtype=float32) (32, 128, 128, 3)\n",
      "tf.Tensor(\n",
      "[[0. 0. 0. ... 0. 0. 0.]\n",
      " [0. 0. 0. ... 0. 0. 0.]\n",
      " [0. 0. 0. ... 0. 0. 0.]\n",
      " ...\n",
      " [0. 0. 0. ... 0. 0. 0.]\n",
      " [0. 0. 0. ... 0. 0. 0.]\n",
      " [0. 0. 0. ... 0. 0. 0.]], shape=(32, 38), dtype=float32) (32, 38)\n"
     ]
    }
   ],
   "source": [
    "for x,y in training_set:\n",
    "    print(x,x.shape)\n",
    "    print(y,y.shape)\n",
    "    break"
   ]
  },
  {
   "cell_type": "code",
   "execution_count": 50,
   "id": "3decf560-ac44-4f5b-afa2-f5f871ae19d4",
   "metadata": {},
   "outputs": [],
   "source": [
    "from tensorflow.keras.layers import Dense, Conv2D, MaxPool2D, Flatten, Dropout\n",
    "from tensorflow.keras.models import Sequential"
   ]
  },
  {
   "cell_type": "code",
   "execution_count": 52,
   "id": "14d4ccd9-7264-46a4-9ce9-2d6d7e6958da",
   "metadata": {},
   "outputs": [],
   "source": [
    "model = Sequential()"
   ]
  },
  {
   "cell_type": "code",
   "execution_count": 55,
   "id": "a099cbed-5bf7-4816-98a7-4cf30b3f9a0d",
   "metadata": {},
   "outputs": [],
   "source": [
    "model.add(Conv2D(filters=32,kernel_size=3, padding='same',activation='relu', input_shape=[128,128,3]))\n",
    "model.add(Conv2D(filters=32,kernel_size=3,activation='relu'))\n",
    "model.add(MaxPool2D(pool_size=2, strides=2))"
   ]
  },
  {
   "cell_type": "code",
   "execution_count": 57,
   "id": "9a2f7991-fc5d-439c-ae6d-5b16fcb19e0e",
   "metadata": {},
   "outputs": [],
   "source": [
    "model.add(Conv2D(filters=64,kernel_size=3, padding='same',activation='relu'))\n",
    "model.add(Conv2D(filters=64,kernel_size=3,activation='relu'))\n",
    "model.add(MaxPool2D(pool_size=2, strides=2))"
   ]
  },
  {
   "cell_type": "code",
   "execution_count": 59,
   "id": "39685330-d0c4-4277-8e99-9ccd802a75f9",
   "metadata": {},
   "outputs": [],
   "source": [
    "model.add(Conv2D(filters=128,kernel_size=3, padding='same',activation='relu',))\n",
    "model.add(Conv2D(filters=128,kernel_size=3,activation='relu'))\n",
    "model.add(MaxPool2D(pool_size=2, strides=2))"
   ]
  },
  {
   "cell_type": "code",
   "execution_count": 61,
   "id": "260e151e-375c-4dd6-a9a8-38cbb03fa431",
   "metadata": {},
   "outputs": [],
   "source": [
    "model.add(Conv2D(filters=256,kernel_size=3, padding='same',activation='relu'))\n",
    "model.add(Conv2D(filters=256,kernel_size=3,activation='relu'))\n",
    "model.add(MaxPool2D(pool_size=2, strides=2))"
   ]
  },
  {
   "cell_type": "code",
   "execution_count": 63,
   "id": "519cff9a-1caf-45e3-beb5-3da843ed2ff1",
   "metadata": {},
   "outputs": [],
   "source": [
    "model.add(Conv2D(filters=512,kernel_size=3, padding='same',activation='relu'))\n",
    "model.add(Conv2D(filters=512,kernel_size=3,activation='relu'))\n",
    "model.add(MaxPool2D(pool_size=2, strides=2))"
   ]
  },
  {
   "cell_type": "code",
   "execution_count": 65,
   "id": "59e27bf6-4ba9-48d0-856f-79c19e5daed9",
   "metadata": {},
   "outputs": [],
   "source": [
    "model.add(Dropout(0.25)) # avoid overfitting"
   ]
  },
  {
   "cell_type": "code",
   "execution_count": 67,
   "id": "ad797e5d-f6b6-4a30-9976-5e1dbdc0f565",
   "metadata": {},
   "outputs": [],
   "source": [
    "model.add(Flatten())"
   ]
  },
  {
   "cell_type": "code",
   "execution_count": 69,
   "id": "ce73319b-b3b8-427d-9e4b-2b093283498b",
   "metadata": {},
   "outputs": [],
   "source": [
    "model.add(Dense(units=1500, activation='relu'))"
   ]
  },
  {
   "cell_type": "code",
   "execution_count": 71,
   "id": "c4507879-9834-409f-a91c-844c23644836",
   "metadata": {},
   "outputs": [],
   "source": [
    "model.add(Dropout(0.4))"
   ]
  },
  {
   "cell_type": "code",
   "execution_count": 73,
   "id": "1d083c12-802f-4bac-a4bb-1cb3660330b2",
   "metadata": {},
   "outputs": [],
   "source": [
    "#output layer\n",
    "model.add(Dense(units=38, activation=\"softmax\"))"
   ]
  },
  {
   "cell_type": "code",
   "execution_count": 76,
   "id": "b047d6dd-3d02-4003-b131-00e4d19cad4d",
   "metadata": {},
   "outputs": [],
   "source": [
    "model.compile(optimizer=tf.keras.optimizers.Adam(\n",
    "    learning_rate=0.0001), loss=\"categorical_crossentropy\",metrics=['accuracy'])"
   ]
  },
  {
   "cell_type": "code",
   "execution_count": 78,
   "id": "892506cf-dbde-423c-b246-14d7ab7358da",
   "metadata": {},
   "outputs": [
    {
     "data": {
      "text/html": [
       "<pre style=\"white-space:pre;overflow-x:auto;line-height:normal;font-family:Menlo,'DejaVu Sans Mono',consolas,'Courier New',monospace\"><span style=\"font-weight: bold\">Model: \"sequential_1\"</span>\n",
       "</pre>\n"
      ],
      "text/plain": [
       "\u001b[1mModel: \"sequential_1\"\u001b[0m\n"
      ]
     },
     "metadata": {},
     "output_type": "display_data"
    },
    {
     "data": {
      "text/html": [
       "<pre style=\"white-space:pre;overflow-x:auto;line-height:normal;font-family:Menlo,'DejaVu Sans Mono',consolas,'Courier New',monospace\">┏━━━━━━━━━━━━━━━━━━━━━━━━━━━━━━━━━┳━━━━━━━━━━━━━━━━━━━━━━━━┳━━━━━━━━━━━━━━━┓\n",
       "┃<span style=\"font-weight: bold\"> Layer (type)                    </span>┃<span style=\"font-weight: bold\"> Output Shape           </span>┃<span style=\"font-weight: bold\">       Param # </span>┃\n",
       "┡━━━━━━━━━━━━━━━━━━━━━━━━━━━━━━━━━╇━━━━━━━━━━━━━━━━━━━━━━━━╇━━━━━━━━━━━━━━━┩\n",
       "│ conv2d_16 (<span style=\"color: #0087ff; text-decoration-color: #0087ff\">Conv2D</span>)              │ (<span style=\"color: #00d7ff; text-decoration-color: #00d7ff\">None</span>, <span style=\"color: #00af00; text-decoration-color: #00af00\">128</span>, <span style=\"color: #00af00; text-decoration-color: #00af00\">128</span>, <span style=\"color: #00af00; text-decoration-color: #00af00\">32</span>)   │           <span style=\"color: #00af00; text-decoration-color: #00af00\">896</span> │\n",
       "├─────────────────────────────────┼────────────────────────┼───────────────┤\n",
       "│ conv2d_17 (<span style=\"color: #0087ff; text-decoration-color: #0087ff\">Conv2D</span>)              │ (<span style=\"color: #00d7ff; text-decoration-color: #00d7ff\">None</span>, <span style=\"color: #00af00; text-decoration-color: #00af00\">126</span>, <span style=\"color: #00af00; text-decoration-color: #00af00\">126</span>, <span style=\"color: #00af00; text-decoration-color: #00af00\">32</span>)   │         <span style=\"color: #00af00; text-decoration-color: #00af00\">9,248</span> │\n",
       "├─────────────────────────────────┼────────────────────────┼───────────────┤\n",
       "│ max_pooling2d_6 (<span style=\"color: #0087ff; text-decoration-color: #0087ff\">MaxPooling2D</span>)  │ (<span style=\"color: #00d7ff; text-decoration-color: #00d7ff\">None</span>, <span style=\"color: #00af00; text-decoration-color: #00af00\">63</span>, <span style=\"color: #00af00; text-decoration-color: #00af00\">63</span>, <span style=\"color: #00af00; text-decoration-color: #00af00\">32</span>)     │             <span style=\"color: #00af00; text-decoration-color: #00af00\">0</span> │\n",
       "├─────────────────────────────────┼────────────────────────┼───────────────┤\n",
       "│ conv2d_18 (<span style=\"color: #0087ff; text-decoration-color: #0087ff\">Conv2D</span>)              │ (<span style=\"color: #00d7ff; text-decoration-color: #00d7ff\">None</span>, <span style=\"color: #00af00; text-decoration-color: #00af00\">63</span>, <span style=\"color: #00af00; text-decoration-color: #00af00\">63</span>, <span style=\"color: #00af00; text-decoration-color: #00af00\">64</span>)     │        <span style=\"color: #00af00; text-decoration-color: #00af00\">18,496</span> │\n",
       "├─────────────────────────────────┼────────────────────────┼───────────────┤\n",
       "│ conv2d_19 (<span style=\"color: #0087ff; text-decoration-color: #0087ff\">Conv2D</span>)              │ (<span style=\"color: #00d7ff; text-decoration-color: #00d7ff\">None</span>, <span style=\"color: #00af00; text-decoration-color: #00af00\">61</span>, <span style=\"color: #00af00; text-decoration-color: #00af00\">61</span>, <span style=\"color: #00af00; text-decoration-color: #00af00\">64</span>)     │        <span style=\"color: #00af00; text-decoration-color: #00af00\">36,928</span> │\n",
       "├─────────────────────────────────┼────────────────────────┼───────────────┤\n",
       "│ max_pooling2d_7 (<span style=\"color: #0087ff; text-decoration-color: #0087ff\">MaxPooling2D</span>)  │ (<span style=\"color: #00d7ff; text-decoration-color: #00d7ff\">None</span>, <span style=\"color: #00af00; text-decoration-color: #00af00\">30</span>, <span style=\"color: #00af00; text-decoration-color: #00af00\">30</span>, <span style=\"color: #00af00; text-decoration-color: #00af00\">64</span>)     │             <span style=\"color: #00af00; text-decoration-color: #00af00\">0</span> │\n",
       "├─────────────────────────────────┼────────────────────────┼───────────────┤\n",
       "│ conv2d_20 (<span style=\"color: #0087ff; text-decoration-color: #0087ff\">Conv2D</span>)              │ (<span style=\"color: #00d7ff; text-decoration-color: #00d7ff\">None</span>, <span style=\"color: #00af00; text-decoration-color: #00af00\">30</span>, <span style=\"color: #00af00; text-decoration-color: #00af00\">30</span>, <span style=\"color: #00af00; text-decoration-color: #00af00\">128</span>)    │        <span style=\"color: #00af00; text-decoration-color: #00af00\">73,856</span> │\n",
       "├─────────────────────────────────┼────────────────────────┼───────────────┤\n",
       "│ conv2d_21 (<span style=\"color: #0087ff; text-decoration-color: #0087ff\">Conv2D</span>)              │ (<span style=\"color: #00d7ff; text-decoration-color: #00d7ff\">None</span>, <span style=\"color: #00af00; text-decoration-color: #00af00\">28</span>, <span style=\"color: #00af00; text-decoration-color: #00af00\">28</span>, <span style=\"color: #00af00; text-decoration-color: #00af00\">128</span>)    │       <span style=\"color: #00af00; text-decoration-color: #00af00\">147,584</span> │\n",
       "├─────────────────────────────────┼────────────────────────┼───────────────┤\n",
       "│ max_pooling2d_8 (<span style=\"color: #0087ff; text-decoration-color: #0087ff\">MaxPooling2D</span>)  │ (<span style=\"color: #00d7ff; text-decoration-color: #00d7ff\">None</span>, <span style=\"color: #00af00; text-decoration-color: #00af00\">14</span>, <span style=\"color: #00af00; text-decoration-color: #00af00\">14</span>, <span style=\"color: #00af00; text-decoration-color: #00af00\">128</span>)    │             <span style=\"color: #00af00; text-decoration-color: #00af00\">0</span> │\n",
       "├─────────────────────────────────┼────────────────────────┼───────────────┤\n",
       "│ conv2d_22 (<span style=\"color: #0087ff; text-decoration-color: #0087ff\">Conv2D</span>)              │ (<span style=\"color: #00d7ff; text-decoration-color: #00d7ff\">None</span>, <span style=\"color: #00af00; text-decoration-color: #00af00\">14</span>, <span style=\"color: #00af00; text-decoration-color: #00af00\">14</span>, <span style=\"color: #00af00; text-decoration-color: #00af00\">256</span>)    │       <span style=\"color: #00af00; text-decoration-color: #00af00\">295,168</span> │\n",
       "├─────────────────────────────────┼────────────────────────┼───────────────┤\n",
       "│ conv2d_23 (<span style=\"color: #0087ff; text-decoration-color: #0087ff\">Conv2D</span>)              │ (<span style=\"color: #00d7ff; text-decoration-color: #00d7ff\">None</span>, <span style=\"color: #00af00; text-decoration-color: #00af00\">12</span>, <span style=\"color: #00af00; text-decoration-color: #00af00\">12</span>, <span style=\"color: #00af00; text-decoration-color: #00af00\">256</span>)    │       <span style=\"color: #00af00; text-decoration-color: #00af00\">590,080</span> │\n",
       "├─────────────────────────────────┼────────────────────────┼───────────────┤\n",
       "│ max_pooling2d_9 (<span style=\"color: #0087ff; text-decoration-color: #0087ff\">MaxPooling2D</span>)  │ (<span style=\"color: #00d7ff; text-decoration-color: #00d7ff\">None</span>, <span style=\"color: #00af00; text-decoration-color: #00af00\">6</span>, <span style=\"color: #00af00; text-decoration-color: #00af00\">6</span>, <span style=\"color: #00af00; text-decoration-color: #00af00\">256</span>)      │             <span style=\"color: #00af00; text-decoration-color: #00af00\">0</span> │\n",
       "├─────────────────────────────────┼────────────────────────┼───────────────┤\n",
       "│ conv2d_24 (<span style=\"color: #0087ff; text-decoration-color: #0087ff\">Conv2D</span>)              │ (<span style=\"color: #00d7ff; text-decoration-color: #00d7ff\">None</span>, <span style=\"color: #00af00; text-decoration-color: #00af00\">6</span>, <span style=\"color: #00af00; text-decoration-color: #00af00\">6</span>, <span style=\"color: #00af00; text-decoration-color: #00af00\">512</span>)      │     <span style=\"color: #00af00; text-decoration-color: #00af00\">1,180,160</span> │\n",
       "├─────────────────────────────────┼────────────────────────┼───────────────┤\n",
       "│ conv2d_25 (<span style=\"color: #0087ff; text-decoration-color: #0087ff\">Conv2D</span>)              │ (<span style=\"color: #00d7ff; text-decoration-color: #00d7ff\">None</span>, <span style=\"color: #00af00; text-decoration-color: #00af00\">4</span>, <span style=\"color: #00af00; text-decoration-color: #00af00\">4</span>, <span style=\"color: #00af00; text-decoration-color: #00af00\">512</span>)      │     <span style=\"color: #00af00; text-decoration-color: #00af00\">2,359,808</span> │\n",
       "├─────────────────────────────────┼────────────────────────┼───────────────┤\n",
       "│ max_pooling2d_10 (<span style=\"color: #0087ff; text-decoration-color: #0087ff\">MaxPooling2D</span>) │ (<span style=\"color: #00d7ff; text-decoration-color: #00d7ff\">None</span>, <span style=\"color: #00af00; text-decoration-color: #00af00\">2</span>, <span style=\"color: #00af00; text-decoration-color: #00af00\">2</span>, <span style=\"color: #00af00; text-decoration-color: #00af00\">512</span>)      │             <span style=\"color: #00af00; text-decoration-color: #00af00\">0</span> │\n",
       "├─────────────────────────────────┼────────────────────────┼───────────────┤\n",
       "│ dropout (<span style=\"color: #0087ff; text-decoration-color: #0087ff\">Dropout</span>)               │ (<span style=\"color: #00d7ff; text-decoration-color: #00d7ff\">None</span>, <span style=\"color: #00af00; text-decoration-color: #00af00\">2</span>, <span style=\"color: #00af00; text-decoration-color: #00af00\">2</span>, <span style=\"color: #00af00; text-decoration-color: #00af00\">512</span>)      │             <span style=\"color: #00af00; text-decoration-color: #00af00\">0</span> │\n",
       "├─────────────────────────────────┼────────────────────────┼───────────────┤\n",
       "│ flatten_1 (<span style=\"color: #0087ff; text-decoration-color: #0087ff\">Flatten</span>)             │ (<span style=\"color: #00d7ff; text-decoration-color: #00d7ff\">None</span>, <span style=\"color: #00af00; text-decoration-color: #00af00\">2048</span>)           │             <span style=\"color: #00af00; text-decoration-color: #00af00\">0</span> │\n",
       "├─────────────────────────────────┼────────────────────────┼───────────────┤\n",
       "│ dense (<span style=\"color: #0087ff; text-decoration-color: #0087ff\">Dense</span>)                   │ (<span style=\"color: #00d7ff; text-decoration-color: #00d7ff\">None</span>, <span style=\"color: #00af00; text-decoration-color: #00af00\">1500</span>)           │     <span style=\"color: #00af00; text-decoration-color: #00af00\">3,073,500</span> │\n",
       "├─────────────────────────────────┼────────────────────────┼───────────────┤\n",
       "│ dropout_1 (<span style=\"color: #0087ff; text-decoration-color: #0087ff\">Dropout</span>)             │ (<span style=\"color: #00d7ff; text-decoration-color: #00d7ff\">None</span>, <span style=\"color: #00af00; text-decoration-color: #00af00\">1500</span>)           │             <span style=\"color: #00af00; text-decoration-color: #00af00\">0</span> │\n",
       "├─────────────────────────────────┼────────────────────────┼───────────────┤\n",
       "│ dense_1 (<span style=\"color: #0087ff; text-decoration-color: #0087ff\">Dense</span>)                 │ (<span style=\"color: #00d7ff; text-decoration-color: #00d7ff\">None</span>, <span style=\"color: #00af00; text-decoration-color: #00af00\">38</span>)             │        <span style=\"color: #00af00; text-decoration-color: #00af00\">57,038</span> │\n",
       "└─────────────────────────────────┴────────────────────────┴───────────────┘\n",
       "</pre>\n"
      ],
      "text/plain": [
       "┏━━━━━━━━━━━━━━━━━━━━━━━━━━━━━━━━━┳━━━━━━━━━━━━━━━━━━━━━━━━┳━━━━━━━━━━━━━━━┓\n",
       "┃\u001b[1m \u001b[0m\u001b[1mLayer (type)                   \u001b[0m\u001b[1m \u001b[0m┃\u001b[1m \u001b[0m\u001b[1mOutput Shape          \u001b[0m\u001b[1m \u001b[0m┃\u001b[1m \u001b[0m\u001b[1m      Param #\u001b[0m\u001b[1m \u001b[0m┃\n",
       "┡━━━━━━━━━━━━━━━━━━━━━━━━━━━━━━━━━╇━━━━━━━━━━━━━━━━━━━━━━━━╇━━━━━━━━━━━━━━━┩\n",
       "│ conv2d_16 (\u001b[38;5;33mConv2D\u001b[0m)              │ (\u001b[38;5;45mNone\u001b[0m, \u001b[38;5;34m128\u001b[0m, \u001b[38;5;34m128\u001b[0m, \u001b[38;5;34m32\u001b[0m)   │           \u001b[38;5;34m896\u001b[0m │\n",
       "├─────────────────────────────────┼────────────────────────┼───────────────┤\n",
       "│ conv2d_17 (\u001b[38;5;33mConv2D\u001b[0m)              │ (\u001b[38;5;45mNone\u001b[0m, \u001b[38;5;34m126\u001b[0m, \u001b[38;5;34m126\u001b[0m, \u001b[38;5;34m32\u001b[0m)   │         \u001b[38;5;34m9,248\u001b[0m │\n",
       "├─────────────────────────────────┼────────────────────────┼───────────────┤\n",
       "│ max_pooling2d_6 (\u001b[38;5;33mMaxPooling2D\u001b[0m)  │ (\u001b[38;5;45mNone\u001b[0m, \u001b[38;5;34m63\u001b[0m, \u001b[38;5;34m63\u001b[0m, \u001b[38;5;34m32\u001b[0m)     │             \u001b[38;5;34m0\u001b[0m │\n",
       "├─────────────────────────────────┼────────────────────────┼───────────────┤\n",
       "│ conv2d_18 (\u001b[38;5;33mConv2D\u001b[0m)              │ (\u001b[38;5;45mNone\u001b[0m, \u001b[38;5;34m63\u001b[0m, \u001b[38;5;34m63\u001b[0m, \u001b[38;5;34m64\u001b[0m)     │        \u001b[38;5;34m18,496\u001b[0m │\n",
       "├─────────────────────────────────┼────────────────────────┼───────────────┤\n",
       "│ conv2d_19 (\u001b[38;5;33mConv2D\u001b[0m)              │ (\u001b[38;5;45mNone\u001b[0m, \u001b[38;5;34m61\u001b[0m, \u001b[38;5;34m61\u001b[0m, \u001b[38;5;34m64\u001b[0m)     │        \u001b[38;5;34m36,928\u001b[0m │\n",
       "├─────────────────────────────────┼────────────────────────┼───────────────┤\n",
       "│ max_pooling2d_7 (\u001b[38;5;33mMaxPooling2D\u001b[0m)  │ (\u001b[38;5;45mNone\u001b[0m, \u001b[38;5;34m30\u001b[0m, \u001b[38;5;34m30\u001b[0m, \u001b[38;5;34m64\u001b[0m)     │             \u001b[38;5;34m0\u001b[0m │\n",
       "├─────────────────────────────────┼────────────────────────┼───────────────┤\n",
       "│ conv2d_20 (\u001b[38;5;33mConv2D\u001b[0m)              │ (\u001b[38;5;45mNone\u001b[0m, \u001b[38;5;34m30\u001b[0m, \u001b[38;5;34m30\u001b[0m, \u001b[38;5;34m128\u001b[0m)    │        \u001b[38;5;34m73,856\u001b[0m │\n",
       "├─────────────────────────────────┼────────────────────────┼───────────────┤\n",
       "│ conv2d_21 (\u001b[38;5;33mConv2D\u001b[0m)              │ (\u001b[38;5;45mNone\u001b[0m, \u001b[38;5;34m28\u001b[0m, \u001b[38;5;34m28\u001b[0m, \u001b[38;5;34m128\u001b[0m)    │       \u001b[38;5;34m147,584\u001b[0m │\n",
       "├─────────────────────────────────┼────────────────────────┼───────────────┤\n",
       "│ max_pooling2d_8 (\u001b[38;5;33mMaxPooling2D\u001b[0m)  │ (\u001b[38;5;45mNone\u001b[0m, \u001b[38;5;34m14\u001b[0m, \u001b[38;5;34m14\u001b[0m, \u001b[38;5;34m128\u001b[0m)    │             \u001b[38;5;34m0\u001b[0m │\n",
       "├─────────────────────────────────┼────────────────────────┼───────────────┤\n",
       "│ conv2d_22 (\u001b[38;5;33mConv2D\u001b[0m)              │ (\u001b[38;5;45mNone\u001b[0m, \u001b[38;5;34m14\u001b[0m, \u001b[38;5;34m14\u001b[0m, \u001b[38;5;34m256\u001b[0m)    │       \u001b[38;5;34m295,168\u001b[0m │\n",
       "├─────────────────────────────────┼────────────────────────┼───────────────┤\n",
       "│ conv2d_23 (\u001b[38;5;33mConv2D\u001b[0m)              │ (\u001b[38;5;45mNone\u001b[0m, \u001b[38;5;34m12\u001b[0m, \u001b[38;5;34m12\u001b[0m, \u001b[38;5;34m256\u001b[0m)    │       \u001b[38;5;34m590,080\u001b[0m │\n",
       "├─────────────────────────────────┼────────────────────────┼───────────────┤\n",
       "│ max_pooling2d_9 (\u001b[38;5;33mMaxPooling2D\u001b[0m)  │ (\u001b[38;5;45mNone\u001b[0m, \u001b[38;5;34m6\u001b[0m, \u001b[38;5;34m6\u001b[0m, \u001b[38;5;34m256\u001b[0m)      │             \u001b[38;5;34m0\u001b[0m │\n",
       "├─────────────────────────────────┼────────────────────────┼───────────────┤\n",
       "│ conv2d_24 (\u001b[38;5;33mConv2D\u001b[0m)              │ (\u001b[38;5;45mNone\u001b[0m, \u001b[38;5;34m6\u001b[0m, \u001b[38;5;34m6\u001b[0m, \u001b[38;5;34m512\u001b[0m)      │     \u001b[38;5;34m1,180,160\u001b[0m │\n",
       "├─────────────────────────────────┼────────────────────────┼───────────────┤\n",
       "│ conv2d_25 (\u001b[38;5;33mConv2D\u001b[0m)              │ (\u001b[38;5;45mNone\u001b[0m, \u001b[38;5;34m4\u001b[0m, \u001b[38;5;34m4\u001b[0m, \u001b[38;5;34m512\u001b[0m)      │     \u001b[38;5;34m2,359,808\u001b[0m │\n",
       "├─────────────────────────────────┼────────────────────────┼───────────────┤\n",
       "│ max_pooling2d_10 (\u001b[38;5;33mMaxPooling2D\u001b[0m) │ (\u001b[38;5;45mNone\u001b[0m, \u001b[38;5;34m2\u001b[0m, \u001b[38;5;34m2\u001b[0m, \u001b[38;5;34m512\u001b[0m)      │             \u001b[38;5;34m0\u001b[0m │\n",
       "├─────────────────────────────────┼────────────────────────┼───────────────┤\n",
       "│ dropout (\u001b[38;5;33mDropout\u001b[0m)               │ (\u001b[38;5;45mNone\u001b[0m, \u001b[38;5;34m2\u001b[0m, \u001b[38;5;34m2\u001b[0m, \u001b[38;5;34m512\u001b[0m)      │             \u001b[38;5;34m0\u001b[0m │\n",
       "├─────────────────────────────────┼────────────────────────┼───────────────┤\n",
       "│ flatten_1 (\u001b[38;5;33mFlatten\u001b[0m)             │ (\u001b[38;5;45mNone\u001b[0m, \u001b[38;5;34m2048\u001b[0m)           │             \u001b[38;5;34m0\u001b[0m │\n",
       "├─────────────────────────────────┼────────────────────────┼───────────────┤\n",
       "│ dense (\u001b[38;5;33mDense\u001b[0m)                   │ (\u001b[38;5;45mNone\u001b[0m, \u001b[38;5;34m1500\u001b[0m)           │     \u001b[38;5;34m3,073,500\u001b[0m │\n",
       "├─────────────────────────────────┼────────────────────────┼───────────────┤\n",
       "│ dropout_1 (\u001b[38;5;33mDropout\u001b[0m)             │ (\u001b[38;5;45mNone\u001b[0m, \u001b[38;5;34m1500\u001b[0m)           │             \u001b[38;5;34m0\u001b[0m │\n",
       "├─────────────────────────────────┼────────────────────────┼───────────────┤\n",
       "│ dense_1 (\u001b[38;5;33mDense\u001b[0m)                 │ (\u001b[38;5;45mNone\u001b[0m, \u001b[38;5;34m38\u001b[0m)             │        \u001b[38;5;34m57,038\u001b[0m │\n",
       "└─────────────────────────────────┴────────────────────────┴───────────────┘\n"
      ]
     },
     "metadata": {},
     "output_type": "display_data"
    },
    {
     "data": {
      "text/html": [
       "<pre style=\"white-space:pre;overflow-x:auto;line-height:normal;font-family:Menlo,'DejaVu Sans Mono',consolas,'Courier New',monospace\"><span style=\"font-weight: bold\"> Total params: </span><span style=\"color: #00af00; text-decoration-color: #00af00\">7,842,762</span> (29.92 MB)\n",
       "</pre>\n"
      ],
      "text/plain": [
       "\u001b[1m Total params: \u001b[0m\u001b[38;5;34m7,842,762\u001b[0m (29.92 MB)\n"
      ]
     },
     "metadata": {},
     "output_type": "display_data"
    },
    {
     "data": {
      "text/html": [
       "<pre style=\"white-space:pre;overflow-x:auto;line-height:normal;font-family:Menlo,'DejaVu Sans Mono',consolas,'Courier New',monospace\"><span style=\"font-weight: bold\"> Trainable params: </span><span style=\"color: #00af00; text-decoration-color: #00af00\">7,842,762</span> (29.92 MB)\n",
       "</pre>\n"
      ],
      "text/plain": [
       "\u001b[1m Trainable params: \u001b[0m\u001b[38;5;34m7,842,762\u001b[0m (29.92 MB)\n"
      ]
     },
     "metadata": {},
     "output_type": "display_data"
    },
    {
     "data": {
      "text/html": [
       "<pre style=\"white-space:pre;overflow-x:auto;line-height:normal;font-family:Menlo,'DejaVu Sans Mono',consolas,'Courier New',monospace\"><span style=\"font-weight: bold\"> Non-trainable params: </span><span style=\"color: #00af00; text-decoration-color: #00af00\">0</span> (0.00 B)\n",
       "</pre>\n"
      ],
      "text/plain": [
       "\u001b[1m Non-trainable params: \u001b[0m\u001b[38;5;34m0\u001b[0m (0.00 B)\n"
      ]
     },
     "metadata": {},
     "output_type": "display_data"
    }
   ],
   "source": [
    "model.summary()"
   ]
  },
  {
   "cell_type": "code",
   "execution_count": 81,
   "id": "778d8404-42d0-4c80-805b-9ec80980b811",
   "metadata": {},
   "outputs": [
    {
     "name": "stdout",
     "output_type": "stream",
     "text": [
      "Epoch 1/10\n",
      "\u001b[1m2197/2197\u001b[0m \u001b[32m━━━━━━━━━━━━━━━━━━━━\u001b[0m\u001b[37m\u001b[0m \u001b[1m1511s\u001b[0m 687ms/step - accuracy: 0.4182 - loss: 2.0693 - val_accuracy: 0.8019 - val_loss: 0.6204\n",
      "Epoch 2/10\n",
      "\u001b[1m2197/2197\u001b[0m \u001b[32m━━━━━━━━━━━━━━━━━━━━\u001b[0m\u001b[37m\u001b[0m \u001b[1m1501s\u001b[0m 683ms/step - accuracy: 0.8482 - loss: 0.4887 - val_accuracy: 0.9008 - val_loss: 0.3077\n",
      "Epoch 3/10\n",
      "\u001b[1m2197/2197\u001b[0m \u001b[32m━━━━━━━━━━━━━━━━━━━━\u001b[0m\u001b[37m\u001b[0m \u001b[1m1502s\u001b[0m 684ms/step - accuracy: 0.9110 - loss: 0.2722 - val_accuracy: 0.9426 - val_loss: 0.1767\n",
      "Epoch 4/10\n",
      "\u001b[1m2197/2197\u001b[0m \u001b[32m━━━━━━━━━━━━━━━━━━━━\u001b[0m\u001b[37m\u001b[0m \u001b[1m1502s\u001b[0m 684ms/step - accuracy: 0.9401 - loss: 0.1854 - val_accuracy: 0.9468 - val_loss: 0.1621\n",
      "Epoch 5/10\n",
      "\u001b[1m2197/2197\u001b[0m \u001b[32m━━━━━━━━━━━━━━━━━━━━\u001b[0m\u001b[37m\u001b[0m \u001b[1m1502s\u001b[0m 683ms/step - accuracy: 0.9550 - loss: 0.1352 - val_accuracy: 0.9602 - val_loss: 0.1248\n",
      "Epoch 6/10\n",
      "\u001b[1m2197/2197\u001b[0m \u001b[32m━━━━━━━━━━━━━━━━━━━━\u001b[0m\u001b[37m\u001b[0m \u001b[1m1502s\u001b[0m 684ms/step - accuracy: 0.9648 - loss: 0.1065 - val_accuracy: 0.9526 - val_loss: 0.1626\n",
      "Epoch 7/10\n",
      "\u001b[1m2197/2197\u001b[0m \u001b[32m━━━━━━━━━━━━━━━━━━━━\u001b[0m\u001b[37m\u001b[0m \u001b[1m1501s\u001b[0m 683ms/step - accuracy: 0.9705 - loss: 0.0912 - val_accuracy: 0.9607 - val_loss: 0.1249\n",
      "Epoch 8/10\n",
      "\u001b[1m2197/2197\u001b[0m \u001b[32m━━━━━━━━━━━━━━━━━━━━\u001b[0m\u001b[37m\u001b[0m \u001b[1m1500s\u001b[0m 683ms/step - accuracy: 0.9769 - loss: 0.0724 - val_accuracy: 0.9618 - val_loss: 0.1297\n",
      "Epoch 9/10\n",
      "\u001b[1m2197/2197\u001b[0m \u001b[32m━━━━━━━━━━━━━━━━━━━━\u001b[0m\u001b[37m\u001b[0m \u001b[1m1500s\u001b[0m 683ms/step - accuracy: 0.9787 - loss: 0.0664 - val_accuracy: 0.9644 - val_loss: 0.1166\n",
      "Epoch 10/10\n",
      "\u001b[1m2197/2197\u001b[0m \u001b[32m━━━━━━━━━━━━━━━━━━━━\u001b[0m\u001b[37m\u001b[0m \u001b[1m1499s\u001b[0m 682ms/step - accuracy: 0.9835 - loss: 0.0508 - val_accuracy: 0.9698 - val_loss: 0.1052\n"
     ]
    }
   ],
   "source": [
    "training_history = model.fit(x=training_set, validation_data=validation_set, epochs=10)"
   ]
  },
  {
   "cell_type": "code",
   "execution_count": 85,
   "id": "ca25cf5b-93f4-4b35-be6a-53763131698e",
   "metadata": {},
   "outputs": [
    {
     "name": "stdout",
     "output_type": "stream",
     "text": [
      "\u001b[1m2197/2197\u001b[0m \u001b[32m━━━━━━━━━━━━━━━━━━━━\u001b[0m\u001b[37m\u001b[0m \u001b[1m481s\u001b[0m 219ms/step - accuracy: 0.9928 - loss: 0.0221\n"
     ]
    }
   ],
   "source": [
    "\n",
    "train_loss, train_acc = model.evaluate(training_set)"
   ]
  },
  {
   "cell_type": "code",
   "execution_count": 87,
   "id": "fe1a3c6f-018a-431e-a0d1-52431f54af50",
   "metadata": {},
   "outputs": [
    {
     "name": "stdout",
     "output_type": "stream",
     "text": [
      "0.020132333040237427 0.993370771408081\n"
     ]
    }
   ],
   "source": [
    "print(train_loss, train_acc)"
   ]
  },
  {
   "cell_type": "code",
   "execution_count": 89,
   "id": "37337f91-fe2c-44f0-9022-9964c90ac1de",
   "metadata": {},
   "outputs": [
    {
     "name": "stdout",
     "output_type": "stream",
     "text": [
      "\u001b[1m550/550\u001b[0m \u001b[32m━━━━━━━━━━━━━━━━━━━━\u001b[0m\u001b[37m\u001b[0m \u001b[1m110s\u001b[0m 201ms/step - accuracy: 0.9692 - loss: 0.1069\n"
     ]
    }
   ],
   "source": [
    "val_loss, val_acc = model.evaluate(validation_set)"
   ]
  },
  {
   "cell_type": "code",
   "execution_count": 91,
   "id": "b17719b2-07f5-43ff-b577-dc42ef03300b",
   "metadata": {},
   "outputs": [
    {
     "name": "stdout",
     "output_type": "stream",
     "text": [
      "0.1051897406578064 0.9697814583778381\n"
     ]
    }
   ],
   "source": [
    "print(val_loss, val_acc)"
   ]
  },
  {
   "cell_type": "markdown",
   "id": "5cc016c6-9789-4a39-a9e5-c53c346e2952",
   "metadata": {},
   "source": [
    "## Saving Model"
   ]
  },
  {
   "cell_type": "code",
   "execution_count": 95,
   "id": "6d91ac47-fc29-4afa-b019-79cea5fe6125",
   "metadata": {},
   "outputs": [],
   "source": [
    "model.save(\"trained_model.keras\")"
   ]
  },
  {
   "cell_type": "code",
   "execution_count": 97,
   "id": "3937165d-2731-494d-9160-131a4122c3b6",
   "metadata": {},
   "outputs": [
    {
     "data": {
      "text/plain": [
       "{'accuracy': [0.6184365749359131,\n",
       "  0.8670318126678467,\n",
       "  0.9172629714012146,\n",
       "  0.9411053657531738,\n",
       "  0.9562415480613708,\n",
       "  0.9656590223312378,\n",
       "  0.9710932374000549,\n",
       "  0.9765843749046326,\n",
       "  0.9793726205825806,\n",
       "  0.9825734496116638],\n",
       " 'loss': [1.3003122806549072,\n",
       "  0.4249401390552521,\n",
       "  0.25418993830680847,\n",
       "  0.18094639480113983,\n",
       "  0.13448350131511688,\n",
       "  0.10455308854579926,\n",
       "  0.08939370512962341,\n",
       "  0.07428628206253052,\n",
       "  0.06346384435892105,\n",
       "  0.053559642285108566],\n",
       " 'val_accuracy': [0.8019007444381714,\n",
       "  0.9008080959320068,\n",
       "  0.9425790905952454,\n",
       "  0.9468472599983215,\n",
       "  0.9601638913154602,\n",
       "  0.952595055103302,\n",
       "  0.9606760740280151,\n",
       "  0.9617573618888855,\n",
       "  0.9643751382827759,\n",
       "  0.9697814583778381],\n",
       " 'val_loss': [0.620358943939209,\n",
       "  0.3077324330806732,\n",
       "  0.1767287403345108,\n",
       "  0.16207177937030792,\n",
       "  0.1248081848025322,\n",
       "  0.16260847449302673,\n",
       "  0.12488287687301636,\n",
       "  0.12969084084033966,\n",
       "  0.11661111563444138,\n",
       "  0.10518982261419296]}"
      ]
     },
     "execution_count": 97,
     "metadata": {},
     "output_type": "execute_result"
    }
   ],
   "source": [
    "training_history.history"
   ]
  },
  {
   "cell_type": "code",
   "execution_count": 99,
   "id": "d30c6ccd-145e-474b-a49f-efd601ebda50",
   "metadata": {},
   "outputs": [],
   "source": [
    "\n",
    "import json\n",
    "with open(\"training_hist.json\",\"w\") as f:\n",
    "    json.dump(training_history.history,f)"
   ]
  },
  {
   "cell_type": "code",
   "execution_count": 104,
   "id": "0ff79c71-3526-4066-b6fc-58d8cb62c053",
   "metadata": {},
   "outputs": [
    {
     "data": {
      "text/plain": [
       "[0.6184365749359131,\n",
       " 0.8670318126678467,\n",
       " 0.9172629714012146,\n",
       " 0.9411053657531738,\n",
       " 0.9562415480613708,\n",
       " 0.9656590223312378,\n",
       " 0.9710932374000549,\n",
       " 0.9765843749046326,\n",
       " 0.9793726205825806,\n",
       " 0.9825734496116638]"
      ]
     },
     "execution_count": 104,
     "metadata": {},
     "output_type": "execute_result"
    }
   ],
   "source": [
    "training_history.history['accuracy']"
   ]
  },
  {
   "cell_type": "code",
   "execution_count": 112,
   "id": "039db783-33ed-4e6f-a1c3-77e21f81d86e",
   "metadata": {},
   "outputs": [
    {
     "data": {
      "image/png": "[encoded data removed]",
      "text/plain": [
       "<Figure size 640x480 with 1 Axes>"
      ]
     },
     "metadata": {},
     "output_type": "display_data"
    }
   ],
   "source": [
    "epochs = [i for i in range(1,11)]\n",
    "plt.plot(epochs,training_history.history['accuracy'], color='red' , label='Training Accuracy')\n",
    "plt.plot(epochs,training_history.history['val_accuracy'], color='blue' , label='Validation Accuracy')\n",
    "plt.xlabel(\"No. of Epochs\")\n",
    "plt.ylabel(\"Accuracy Result\")\n",
    "plt.title(\"Visualization of Accuracy Result\")\n",
    "plt.legend()\n",
    "plt.show()"
   ]
  },
  {
   "cell_type": "code",
   "execution_count": 117,
   "id": "05d5cbae-0688-4081-871e-98e30598c98a",
   "metadata": {},
   "outputs": [
    {
     "data": {
      "text/plain": [
       "['Apple___Apple_scab',\n",
       " 'Apple___Black_rot',\n",
       " 'Apple___Cedar_apple_rust',\n",
       " 'Apple___healthy',\n",
       " 'Blueberry___healthy',\n",
       " 'Cherry_(including_sour)___Powdery_mildew',\n",
       " 'Cherry_(including_sour)___healthy',\n",
       " 'Corn_(maize)___Cercospora_leaf_spot Gray_leaf_spot',\n",
       " 'Corn_(maize)___Common_rust_',\n",
       " 'Corn_(maize)___Northern_Leaf_Blight',\n",
       " 'Corn_(maize)___healthy',\n",
       " 'Grape___Black_rot',\n",
       " 'Grape___Esca_(Black_Measles)',\n",
       " 'Grape___Leaf_blight_(Isariopsis_Leaf_Spot)',\n",
       " 'Grape___healthy',\n",
       " 'Orange___Haunglongbing_(Citrus_greening)',\n",
       " 'Peach___Bacterial_spot',\n",
       " 'Peach___healthy',\n",
       " 'Pepper,_bell___Bacterial_spot',\n",
       " 'Pepper,_bell___healthy',\n",
       " 'Potato___Early_blight',\n",
       " 'Potato___Late_blight',\n",
       " 'Potato___healthy',\n",
       " 'Raspberry___healthy',\n",
       " 'Soybean___healthy',\n",
       " 'Squash___Powdery_mildew',\n",
       " 'Strawberry___Leaf_scorch',\n",
       " 'Strawberry___healthy',\n",
       " 'Tomato___Bacterial_spot',\n",
       " 'Tomato___Early_blight',\n",
       " 'Tomato___Late_blight',\n",
       " 'Tomato___Leaf_Mold',\n",
       " 'Tomato___Septoria_leaf_spot',\n",
       " 'Tomato___Spider_mites Two-spotted_spider_mite',\n",
       " 'Tomato___Target_Spot',\n",
       " 'Tomato___Tomato_Yellow_Leaf_Curl_Virus',\n",
       " 'Tomato___Tomato_mosaic_virus',\n",
       " 'Tomato___healthy']"
      ]
     },
     "execution_count": 117,
     "metadata": {},
     "output_type": "execute_result"
    }
   ],
   "source": [
    "class_name = validation_set.class_names\n",
    "class_name"
   ]
  },
  {
   "cell_type": "code",
   "execution_count": 119,
   "id": "5d85a82b-c23d-4c30-8745-4d2577e1c86d",
   "metadata": {},
   "outputs": [
    {
     "name": "stdout",
     "output_type": "stream",
     "text": [
      "Found 17572 files belonging to 38 classes.\n"
     ]
    }
   ],
   "source": [
    "test_set = tf.keras.utils.image_dataset_from_directory(\n",
    "    'valid',\n",
    "    labels=\"inferred\",\n",
    "    label_mode=\"categorical\",\n",
    "    class_names=None,\n",
    "    color_mode=\"rgb\",\n",
    "    batch_size=32,\n",
    "    image_size=(128, 128),\n",
    "    shuffle=False,\n",
    "    seed=None,\n",
    "    validation_split=None,\n",
    "    subset=None,\n",
    "    interpolation=\"bilinear\",\n",
    "    follow_links=False,\n",
    "    crop_to_aspect_ratio=False,\n",
    ")"
   ]
  },
  {
   "cell_type": "code",
   "execution_count": 125,
   "id": "cbd63a78-7bc5-4379-afb3-3bd6c55147a8",
   "metadata": {},
   "outputs": [
    {
     "name": "stdout",
     "output_type": "stream",
     "text": [
      "\u001b[1m550/550\u001b[0m \u001b[32m━━━━━━━━━━━━━━━━━━━━\u001b[0m\u001b[37m\u001b[0m \u001b[1m114s\u001b[0m 207ms/step\n"
     ]
    },
    {
     "data": {
      "text/plain": [
       "(array([[1.0000000e+00, 2.5120409e-10, 1.2899352e-13, ..., 5.7560597e-20,\n",
       "         3.5913222e-19, 3.6713068e-17],\n",
       "        [1.0000000e+00, 2.2022748e-09, 2.7297897e-12, ..., 2.3848582e-17,\n",
       "         4.3782866e-16, 1.6224925e-14],\n",
       "        [1.0000000e+00, 1.5393529e-15, 1.6297743e-15, ..., 1.5126721e-26,\n",
       "         9.8308532e-24, 5.5843299e-20],\n",
       "        ...,\n",
       "        [2.9018858e-09, 1.9582501e-11, 1.4755014e-07, ..., 7.1084437e-11,\n",
       "         1.1981444e-10, 9.9995470e-01],\n",
       "        [8.0718235e-14, 7.6162810e-16, 3.2924058e-10, ..., 1.3803265e-13,\n",
       "         3.5617529e-14, 1.0000000e+00],\n",
       "        [5.4652127e-11, 4.3444599e-11, 1.6881193e-08, ..., 3.1804632e-11,\n",
       "         1.2393346e-09, 9.9998713e-01]], dtype=float32),\n",
       " (17572, 38))"
      ]
     },
     "execution_count": 125,
     "metadata": {},
     "output_type": "execute_result"
    }
   ],
   "source": [
    "y_pred = model.predict(test_set)\n",
    "y_pred, y_pred.shape"
   ]
  },
  {
   "cell_type": "code",
   "execution_count": 127,
   "id": "eea763cc-18a8-4351-96be-7c741716d5bd",
   "metadata": {},
   "outputs": [],
   "source": [
    "predicted_categories = tf.argmax(y_pred, axis=1)"
   ]
  },
  {
   "cell_type": "code",
   "execution_count": 129,
   "id": "1cbc80da-6c77-497f-b08e-674bc04b6853",
   "metadata": {},
   "outputs": [
    {
     "data": {
      "text/plain": [
       "<tf.Tensor: shape=(17572,), dtype=int64, numpy=array([ 0,  0,  0, ..., 37, 37, 37])>"
      ]
     },
     "execution_count": 129,
     "metadata": {},
     "output_type": "execute_result"
    }
   ],
   "source": [
    "predicted_categories"
   ]
  },
  {
   "cell_type": "code",
   "execution_count": 133,
   "id": "e9f259ff-417a-43d1-8124-42ed8682ea44",
   "metadata": {},
   "outputs": [
    {
     "name": "stderr",
     "output_type": "stream",
     "text": [
      "2024-08-18 09:47:51.976107: W tensorflow/core/framework/local_rendezvous.cc:404] Local rendezvous is aborting with status: OUT_OF_RANGE: End of sequence\n"
     ]
    },
    {
     "data": {
      "text/plain": [
       "<tf.Tensor: shape=(17572, 38), dtype=float32, numpy=\n",
       "array([[1., 0., 0., ..., 0., 0., 0.],\n",
       "       [1., 0., 0., ..., 0., 0., 0.],\n",
       "       [1., 0., 0., ..., 0., 0., 0.],\n",
       "       ...,\n",
       "       [0., 0., 0., ..., 0., 0., 1.],\n",
       "       [0., 0., 0., ..., 0., 0., 1.],\n",
       "       [0., 0., 0., ..., 0., 0., 1.]], dtype=float32)>"
      ]
     },
     "execution_count": 133,
     "metadata": {},
     "output_type": "execute_result"
    }
   ],
   "source": [
    "true_categories = tf.concat([y for x,y in test_set], axis=0)\n",
    "true_categories"
   ]
  },
  {
   "cell_type": "code",
   "execution_count": 135,
   "id": "a312c4b8-38a4-494a-9e78-51fac540729a",
   "metadata": {},
   "outputs": [
    {
     "data": {
      "text/plain": [
       "<tf.Tensor: shape=(17572,), dtype=int64, numpy=array([ 0,  0,  0, ..., 37, 37, 37])>"
      ]
     },
     "execution_count": 135,
     "metadata": {},
     "output_type": "execute_result"
    }
   ],
   "source": [
    "Y_true = tf.argmax(true_categories, axis=1)\n",
    "Y_true"
   ]
  },
  {
   "cell_type": "code",
   "execution_count": 141,
   "id": "27e9a8f7-51c7-4086-af58-b7ed08938e7d",
   "metadata": {},
   "outputs": [],
   "source": [
    "from sklearn.metrics import classification_report, confusion_matrix"
   ]
  },
  {
   "cell_type": "code",
   "execution_count": 139,
   "id": "92de5892-4c7b-4805-b9ab-0c5a97704a45",
   "metadata": {},
   "outputs": [
    {
     "name": "stdout",
     "output_type": "stream",
     "text": [
      "                                                    precision    recall  f1-score   support\n",
      "\n",
      "                                Apple___Apple_scab       0.93      0.98      0.95       504\n",
      "                                 Apple___Black_rot       0.99      0.98      0.99       497\n",
      "                          Apple___Cedar_apple_rust       0.97      0.97      0.97       440\n",
      "                                   Apple___healthy       0.97      0.93      0.95       502\n",
      "                               Blueberry___healthy       0.99      0.95      0.97       454\n",
      "          Cherry_(including_sour)___Powdery_mildew       0.99      0.99      0.99       421\n",
      "                 Cherry_(including_sour)___healthy       1.00      0.99      0.99       456\n",
      "Corn_(maize)___Cercospora_leaf_spot Gray_leaf_spot       0.96      0.92      0.94       410\n",
      "                       Corn_(maize)___Common_rust_       0.99      1.00      0.99       477\n",
      "               Corn_(maize)___Northern_Leaf_Blight       0.94      0.98      0.96       477\n",
      "                            Corn_(maize)___healthy       1.00      0.99      1.00       465\n",
      "                                 Grape___Black_rot       0.99      0.98      0.99       472\n",
      "                      Grape___Esca_(Black_Measles)       0.98      0.99      0.99       480\n",
      "        Grape___Leaf_blight_(Isariopsis_Leaf_Spot)       0.99      1.00      1.00       430\n",
      "                                   Grape___healthy       1.00      1.00      1.00       423\n",
      "          Orange___Haunglongbing_(Citrus_greening)       0.98      0.98      0.98       503\n",
      "                            Peach___Bacterial_spot       0.98      0.96      0.97       459\n",
      "                                   Peach___healthy       0.96      1.00      0.98       432\n",
      "                     Pepper,_bell___Bacterial_spot       0.86      1.00      0.92       478\n",
      "                            Pepper,_bell___healthy       0.97      0.98      0.97       497\n",
      "                             Potato___Early_blight       1.00      0.98      0.99       485\n",
      "                              Potato___Late_blight       0.98      0.97      0.98       485\n",
      "                                  Potato___healthy       0.99      0.97      0.98       456\n",
      "                               Raspberry___healthy       0.98      1.00      0.99       445\n",
      "                                 Soybean___healthy       0.99      0.96      0.98       505\n",
      "                           Squash___Powdery_mildew       0.99      1.00      0.99       434\n",
      "                          Strawberry___Leaf_scorch       1.00      0.97      0.99       444\n",
      "                              Strawberry___healthy       0.98      1.00      0.99       456\n",
      "                           Tomato___Bacterial_spot       0.99      0.92      0.95       425\n",
      "                             Tomato___Early_blight       0.87      0.90      0.88       480\n",
      "                              Tomato___Late_blight       0.95      0.91      0.93       463\n",
      "                                Tomato___Leaf_Mold       0.97      0.98      0.97       470\n",
      "                       Tomato___Septoria_leaf_spot       0.94      0.89      0.91       436\n",
      "     Tomato___Spider_mites Two-spotted_spider_mite       0.96      0.94      0.95       435\n",
      "                              Tomato___Target_Spot       0.92      0.93      0.92       457\n",
      "            Tomato___Tomato_Yellow_Leaf_Curl_Virus       0.96      1.00      0.98       490\n",
      "                      Tomato___Tomato_mosaic_virus       0.99      0.98      0.98       448\n",
      "                                  Tomato___healthy       0.98      0.99      0.99       481\n",
      "\n",
      "                                          accuracy                           0.97     17572\n",
      "                                         macro avg       0.97      0.97      0.97     17572\n",
      "                                      weighted avg       0.97      0.97      0.97     17572\n",
      "\n"
     ]
    }
   ],
   "source": [
    "print(classification_report(Y_true, predicted_categories,target_names=class_name))"
   ]
  },
  {
   "cell_type": "code",
   "execution_count": 151,
   "id": "79b49e76-9b48-473e-ae77-73c46bac7675",
   "metadata": {},
   "outputs": [
    {
     "data": {
      "text/plain": [
       "array([[494,   2,   0, ...,   0,   0,   0],\n",
       "       [  1, 489,   0, ...,   0,   0,   0],\n",
       "       [  0,   0, 425, ...,   1,   0,   0],\n",
       "       ...,\n",
       "       [  0,   0,   0, ..., 488,   0,   0],\n",
       "       [  0,   0,   0, ...,   0, 438,   0],\n",
       "       [  0,   0,   0, ...,   0,   0, 477]])"
      ]
     },
     "execution_count": 151,
     "metadata": {},
     "output_type": "execute_result"
    }
   ],
   "source": [
    "cn = confusion_matrix(Y_true, predicted_categories)\n",
    "cn"
   ]
  },
  {
   "cell_type": "code",
   "execution_count": 176,
   "id": "2a83d761-1d96-4a5c-9fdc-7ab221353a5f",
   "metadata": {},
   "outputs": [
    {
     "data": {
      "image/png": "[encoded data removed]",
      "text/plain": [
       "<Figure size 4000x4000 with 2 Axes>"
      ]
     },
     "metadata": {},
     "output_type": "display_data"
    }
   ],
   "source": [
    "plt.figure(figsize=(40,40))\n",
    "sns.heatmap(cn,annot=True, annot_kws={'size':10})\n",
    "plt.xlabel(\"Predicted Class\", fontsize=20)\n",
    "plt.ylabel(\"Actual Class\", fontsize=20)\n",
    "plt.title(\"Plant Disease Prediction confusion matrix\",fontsize=25)\n",
    "plt.show()"
   ]
  },
  {
   "cell_type": "code",
   "execution_count": null,
   "id": "0f088030-6551-456d-8f6c-c626389138b0",
   "metadata": {},
   "outputs": [],
   "source": []
  }
 ],
 "metadata": {
  "kernelspec": {
   "display_name": "Python 3 (ipykernel)",
   "language": "python",
   "name": "python3"
  },
  "language_info": {
   "codemirror_mode": {
    "name": "ipython",
    "version": 3
   },
   "file_extension": ".py",
   "mimetype": "text/x-python",
   "name": "python",
   "nbconvert_exporter": "python",
   "pygments_lexer": "ipython3",
   "version": "3.11.7"
  }
 },
 "nbformat": 4,
 "nbformat_minor": 5
}
